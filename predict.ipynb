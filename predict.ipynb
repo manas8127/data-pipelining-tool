{
 "cells": [
  {
   "cell_type": "code",
   "execution_count": 1,
   "metadata": {},
   "outputs": [],
   "source": [
    "from pyspark.context import SparkContext\n",
    "from pyspark.sql.session import SparkSession\n",
    "import pandas as pd\n",
    "sc = SparkContext('local')\n",
    "spark = SparkSession(sc)"
   ]
  },
  {
   "cell_type": "code",
   "execution_count": 2,
   "metadata": {},
   "outputs": [
    {
     "data": {
      "text/plain": [
       "DataFrame[Adolescent fertility rate: double, Area (square kilometres): bigint, Computer use, 16-24, female: double, Computer use, 16-24, male: double, Computer use, 25-54, female: double, Computer use, 25-54, male: double, Computer use, 55-74, female: double, Computer use, 55-74, male: double, Consumer price index, growth rate: double, Country: string, Economic acivity rate, women 15-64: double, Economic activity rate, men 15-64: double, Employment in agriculture, hunting, forestry and fishing (ISIC Rev. 4 A), share of total employment: double, Employment in construction (ISIC Rev. 4 F), share of total employment: double, Employment in finance, real estate and business services (ISIC Rev. 4 K-N), share of total employment: double, Employment in industry and energy (ISIC Rev. 4 B-E), share of total employment: double, Employment in other service activities (ISIC Rev. 4 R-U), share of total employment: double, Employment in public administration, education and health (ISIC Rev. 4 O-Q), share of total employment: double, Employment in trade, hotels, restaurants, transport and communications (ISIC Rev. 4 G-J), share of total employment: double, Exchange rate (XR), NCU per US$: double, Export of goods and services, per cent of GDP: double, External balance on goods and services, per cent of GDP: double, Female ambassadors, percent of total: double, Female clerks, percent of total for both sexes: double, Female craft and related workers, percent of total for both sexes: double, Female government ministers, percent of total: double, Female judges, percent of total: double, Female legislators, senior officials and managers, percent of total: double, Female members of parliament, percent of total: double, Female part-time employment, percent of both sexes: double, Female plant and machine operators and assemblers, percent of total for both sexes: double, Female professionals, percent of total for both sexes: double, Female tertiary students, percent of total: double, Final consumption expenditure per capita, US Dollars, current PPPs: double, GDP at current prices and PPPs, millions of US$: double, GDP at current prices, millions of NCUs: double, GDP in agriculture (ISIC4 A): output approach, index, 2005=100: double, GDP in industry (incl. construction) (ISIC4 B-F): output approach, index, 2005=100: double, GDP in services (ISIC4 G-U): output approach, index, 2005=100: double, GDP per capita at current prices and PPPs, US$: double, GDP per capita at current prices, NCUs: double, GDP: in agriculture etc. (ISIC4 A), output approach, per cent share of GVA: double, GDP: in construction (ISIC4 F), output approach, per cent share of GVA: double, GDP: in finance and business services (ISIC4 K-N), output approach, per cent share of GVA: double, GDP: in industry etc. (ISIC4 B-E), output approach, per cent share of GVA: double, GDP: in other service activities (ISIC4 R-U), output approach, per cent share of GVA: double, GDP: in public administration, education and health (ISIC4 O-Q), output approach, per cent share of GVA: double, GDP: in trade, hospitality, transport and communication (ISIC4 G-J), output approach, per cent share of GVA: double, Gender pay gap in hourly earning wage rate: double, Gender pay gap in monthly earnings: double, Import of goods and services, per cent of GDP: double, Life expectancy at age 65, men: double, Life expectancy at age 65, women: double, Life expectancy at birth, men: double, Life expectancy at birth, women: double, Mean age of women at birth of first child: double, Persons injured in road accidents: bigint, Persons killed in road accidents: bigint, Population aged 0-14, female: double, Population aged 0-14, male: double, Population aged 15-64, female: double, Population aged 15-64, male: double, Population aged 64+, female: double, Population aged 64+, male: double, Population density, pers. per sq. km: double, Purchasing power parity (PPP), NCU per US$: double, Total employment, growth rate: double, Total fertility rate: double, Total length of motorways (km): double, Total length of railway lines (km): double, Total population: double, Total population, female (%): double, Total population, male (%): double, Unemployment rate: double, Women Researchers, Percent of corresponding total for both sexes: double, Women in the Labour Force, Percent of corresponding total for both sexes: double, Women, percent of all victims of homicides: double, Year: string, Youth unemployment rate: double]"
      ]
     },
     "metadata": {},
     "output_type": "display_data"
    }
   ],
   "source": [
    "#file_location=\"data.csv\"\n",
    "#file_type=\"csv\"\n",
    "\n",
    "file_location=\"unece.json\"\n",
    "file_type=\"json\"\n",
    "\n",
    "# Csv options\n",
    "infer_schema = \"true\"\n",
    "first_row_is_header = \"true\"\n",
    "delimiter = \",\"\n",
    "\n",
    "df=spark.read.format(file_type) \\\n",
    "    .option(\"inferSchema\", infer_schema) \\\n",
    "    .option(\"header\", first_row_is_header) \\\n",
    "    .option(\"sep\", delimiter) \\\n",
    "    .option('nanValue', ' ')\\\n",
    "    .option('nullValue', ' ')\\\n",
    "    .load(file_location)\n",
    "\n",
    "#.decode(\"utf-8\")\n",
    "\n",
    "display(df)"
   ]
  },
  {
   "cell_type": "code",
   "execution_count": 3,
   "metadata": {},
   "outputs": [
    {
     "name": "stdout",
     "output_type": "stream",
     "text": [
      "root\n",
      " |-- Adolescent fertility rate: double (nullable = true)\n",
      " |-- Area (square kilometres): long (nullable = true)\n",
      " |-- Computer use, 16-24, female: double (nullable = true)\n",
      " |-- Computer use, 16-24, male: double (nullable = true)\n",
      " |-- Computer use, 25-54, female: double (nullable = true)\n",
      " |-- Computer use, 25-54, male: double (nullable = true)\n",
      " |-- Computer use, 55-74, female: double (nullable = true)\n",
      " |-- Computer use, 55-74, male: double (nullable = true)\n",
      " |-- Consumer price index, growth rate: double (nullable = true)\n",
      " |-- Country: string (nullable = true)\n",
      " |-- Economic acivity rate, women 15-64: double (nullable = true)\n",
      " |-- Economic activity rate, men 15-64: double (nullable = true)\n",
      " |-- Employment in agriculture, hunting, forestry and fishing (ISIC Rev. 4 A), share of total employment: double (nullable = true)\n",
      " |-- Employment in construction (ISIC Rev. 4 F), share of total employment: double (nullable = true)\n",
      " |-- Employment in finance, real estate and business services (ISIC Rev. 4 K-N), share of total employment: double (nullable = true)\n",
      " |-- Employment in industry and energy (ISIC Rev. 4 B-E), share of total employment: double (nullable = true)\n",
      " |-- Employment in other service activities (ISIC Rev. 4 R-U), share of total employment: double (nullable = true)\n",
      " |-- Employment in public administration, education and health (ISIC Rev. 4 O-Q), share of total employment: double (nullable = true)\n",
      " |-- Employment in trade, hotels, restaurants, transport and communications (ISIC Rev. 4 G-J), share of total employment: double (nullable = true)\n",
      " |-- Exchange rate (XR), NCU per US$: double (nullable = true)\n",
      " |-- Export of goods and services, per cent of GDP: double (nullable = true)\n",
      " |-- External balance on goods and services, per cent of GDP: double (nullable = true)\n",
      " |-- Female ambassadors, percent of total: double (nullable = true)\n",
      " |-- Female clerks, percent of total for both sexes: double (nullable = true)\n",
      " |-- Female craft and related workers, percent of total for both sexes: double (nullable = true)\n",
      " |-- Female government ministers, percent of total: double (nullable = true)\n",
      " |-- Female judges, percent of total: double (nullable = true)\n",
      " |-- Female legislators, senior officials and managers, percent of total: double (nullable = true)\n",
      " |-- Female members of parliament, percent of total: double (nullable = true)\n",
      " |-- Female part-time employment, percent of both sexes: double (nullable = true)\n",
      " |-- Female plant and machine operators and assemblers, percent of total for both sexes: double (nullable = true)\n",
      " |-- Female professionals, percent of total for both sexes: double (nullable = true)\n",
      " |-- Female tertiary students, percent of total: double (nullable = true)\n",
      " |-- Final consumption expenditure per capita, US Dollars, current PPPs: double (nullable = true)\n",
      " |-- GDP at current prices and PPPs, millions of US$: double (nullable = true)\n",
      " |-- GDP at current prices, millions of NCUs: double (nullable = true)\n",
      " |-- GDP in agriculture (ISIC4 A): output approach, index, 2005=100: double (nullable = true)\n",
      " |-- GDP in industry (incl. construction) (ISIC4 B-F): output approach, index, 2005=100: double (nullable = true)\n",
      " |-- GDP in services (ISIC4 G-U): output approach, index, 2005=100: double (nullable = true)\n",
      " |-- GDP per capita at current prices and PPPs, US$: double (nullable = true)\n",
      " |-- GDP per capita at current prices, NCUs: double (nullable = true)\n",
      " |-- GDP: in agriculture etc. (ISIC4 A), output approach, per cent share of GVA: double (nullable = true)\n",
      " |-- GDP: in construction (ISIC4 F), output approach, per cent share of GVA: double (nullable = true)\n",
      " |-- GDP: in finance and business services (ISIC4 K-N), output approach, per cent share of GVA: double (nullable = true)\n",
      " |-- GDP: in industry etc. (ISIC4 B-E), output approach, per cent share of GVA: double (nullable = true)\n",
      " |-- GDP: in other service activities (ISIC4 R-U), output approach, per cent share of GVA: double (nullable = true)\n",
      " |-- GDP: in public administration, education and health (ISIC4 O-Q), output approach, per cent share of GVA: double (nullable = true)\n",
      " |-- GDP: in trade, hospitality, transport and communication (ISIC4 G-J), output approach, per cent share of GVA: double (nullable = true)\n",
      " |-- Gender pay gap in hourly earning wage rate: double (nullable = true)\n",
      " |-- Gender pay gap in monthly earnings: double (nullable = true)\n",
      " |-- Import of goods and services, per cent of GDP: double (nullable = true)\n",
      " |-- Life expectancy at age 65, men: double (nullable = true)\n",
      " |-- Life expectancy at age 65, women: double (nullable = true)\n",
      " |-- Life expectancy at birth, men: double (nullable = true)\n",
      " |-- Life expectancy at birth, women: double (nullable = true)\n",
      " |-- Mean age of women at birth of first child: double (nullable = true)\n",
      " |-- Persons injured in road accidents: long (nullable = true)\n",
      " |-- Persons killed in road accidents: long (nullable = true)\n",
      " |-- Population aged 0-14, female: double (nullable = true)\n",
      " |-- Population aged 0-14, male: double (nullable = true)\n",
      " |-- Population aged 15-64, female: double (nullable = true)\n",
      " |-- Population aged 15-64, male: double (nullable = true)\n",
      " |-- Population aged 64+, female: double (nullable = true)\n",
      " |-- Population aged 64+, male: double (nullable = true)\n",
      " |-- Population density, pers. per sq. km: double (nullable = true)\n",
      " |-- Purchasing power parity (PPP), NCU per US$: double (nullable = true)\n",
      " |-- Total employment, growth rate: double (nullable = true)\n",
      " |-- Total fertility rate: double (nullable = true)\n",
      " |-- Total length of motorways (km): double (nullable = true)\n",
      " |-- Total length of railway lines (km): double (nullable = true)\n",
      " |-- Total population: double (nullable = true)\n",
      " |-- Total population, female (%): double (nullable = true)\n",
      " |-- Total population, male (%): double (nullable = true)\n",
      " |-- Unemployment rate: double (nullable = true)\n",
      " |-- Women Researchers, Percent of corresponding total for both sexes: double (nullable = true)\n",
      " |-- Women in the Labour Force, Percent of corresponding total for both sexes: double (nullable = true)\n",
      " |-- Women, percent of all victims of homicides: double (nullable = true)\n",
      " |-- Year: string (nullable = true)\n",
      " |-- Youth unemployment rate: double (nullable = true)\n",
      "\n"
     ]
    }
   ],
   "source": [
    "df.printSchema()"
   ]
  },
  {
   "cell_type": "code",
   "execution_count": null,
   "metadata": {},
   "outputs": [],
   "source": [
    "df.show()"
   ]
  },
  {
   "cell_type": "code",
   "execution_count": 4,
   "metadata": {},
   "outputs": [],
   "source": [
    "df.createOrReplaceTempView(\"data2\")"
   ]
  },
  {
   "cell_type": "code",
   "execution_count": null,
   "metadata": {},
   "outputs": [],
   "source": [
    "'''\n",
    "import sqlite3\n",
    "database = \"test.db\"\n",
    "conn = sqlite3.connect(database)\n",
    "'''\n"
   ]
  },
  {
   "cell_type": "code",
   "execution_count": 5,
   "metadata": {},
   "outputs": [],
   "source": [
    "import sqlalchemy\n",
    "db = sqlalchemy.create_engine('sqlite:///timeseries.db')"
   ]
  },
  {
   "cell_type": "code",
   "execution_count": 6,
   "metadata": {},
   "outputs": [],
   "source": [
    "df = df.toPandas()\n",
    "df.to_sql('data2', db, if_exists=\"replace\")"
   ]
  }
 ],
 "metadata": {
  "interpreter": {
   "hash": "380030d1298d5a27518acca789ff38fe82bbf2e68b73263de6a6bf23efb7704c"
  },
  "kernelspec": {
   "display_name": "Python 3.8.3 64-bit ('base': conda)",
   "name": "python3"
  },
  "language_info": {
   "codemirror_mode": {
    "name": "ipython",
    "version": 3
   },
   "file_extension": ".py",
   "mimetype": "text/x-python",
   "name": "python",
   "nbconvert_exporter": "python",
   "pygments_lexer": "ipython3",
   "version": "3.8.3"
  },
  "orig_nbformat": 4
 },
 "nbformat": 4,
 "nbformat_minor": 2
}
